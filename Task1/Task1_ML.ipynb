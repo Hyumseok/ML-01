{
  "nbformat": 4,
  "nbformat_minor": 0,
  "metadata": {
    "colab": {
      "provenance": []
    },
    "kernelspec": {
      "name": "python3",
      "display_name": "Python 3"
    },
    "language_info": {
      "name": "python"
    }
  },
  "cells": [
    {
      "cell_type": "code",
      "execution_count": 1,
      "metadata": {
        "id": "7D6trDmJhjpI",
        "colab": {
          "base_uri": "https://localhost:8080/"
        },
        "outputId": "e08691fd-73b6-400a-ae2e-f71299d6c2f5"
      },
      "outputs": [
        {
          "output_type": "stream",
          "name": "stdout",
          "text": [
            "   Unnamed: 0      Suburb           Address  Rooms Type      Price Method  \\\n",
            "0           1  Abbotsford      85 Turner St      2    h  1480000.0      S   \n",
            "1           2  Abbotsford   25 Bloomburg St      2    h  1035000.0      S   \n",
            "2           4  Abbotsford      5 Charles St      3    h  1465000.0     SP   \n",
            "3           5  Abbotsford  40 Federation La      3    h   850000.0     PI   \n",
            "4           6  Abbotsford       55a Park St      4    h  1600000.0     VB   \n",
            "\n",
            "  SellerG       Date  Distance  ...  Bathroom  Car  Landsize  BuildingArea  \\\n",
            "0  Biggin  3/12/2016       2.5  ...       1.0  1.0     202.0           NaN   \n",
            "1  Biggin  4/02/2016       2.5  ...       1.0  0.0     156.0          79.0   \n",
            "2  Biggin  4/03/2017       2.5  ...       2.0  0.0     134.0         150.0   \n",
            "3  Biggin  4/03/2017       2.5  ...       2.0  1.0      94.0           NaN   \n",
            "4  Nelson  4/06/2016       2.5  ...       1.0  2.0     120.0         142.0   \n",
            "\n",
            "   YearBuilt  CouncilArea  Lattitude Longtitude             Regionname  \\\n",
            "0        NaN        Yarra   -37.7996   144.9984  Northern Metropolitan   \n",
            "1     1900.0        Yarra   -37.8079   144.9934  Northern Metropolitan   \n",
            "2     1900.0        Yarra   -37.8093   144.9944  Northern Metropolitan   \n",
            "3        NaN        Yarra   -37.7969   144.9969  Northern Metropolitan   \n",
            "4     2014.0        Yarra   -37.8072   144.9941  Northern Metropolitan   \n",
            "\n",
            "   Propertycount  \n",
            "0         4019.0  \n",
            "1         4019.0  \n",
            "2         4019.0  \n",
            "3         4019.0  \n",
            "4         4019.0  \n",
            "\n",
            "[5 rows x 22 columns]\n"
          ]
        },
        {
          "output_type": "stream",
          "name": "stderr",
          "text": [
            "/usr/local/lib/python3.10/dist-packages/sklearn/preprocessing/_encoders.py:868: FutureWarning: `sparse` was renamed to `sparse_output` in version 1.2 and will be removed in 1.4. `sparse_output` is ignored unless you leave `sparse` to its default value.\n",
            "  warnings.warn(\n",
            "/usr/local/lib/python3.10/dist-packages/sklearn/preprocessing/_encoders.py:868: FutureWarning: `sparse` was renamed to `sparse_output` in version 1.2 and will be removed in 1.4. `sparse_output` is ignored unless you leave `sparse` to its default value.\n",
            "  warnings.warn(\n",
            "/usr/local/lib/python3.10/dist-packages/sklearn/preprocessing/_encoders.py:868: FutureWarning: `sparse` was renamed to `sparse_output` in version 1.2 and will be removed in 1.4. `sparse_output` is ignored unless you leave `sparse` to its default value.\n",
            "  warnings.warn(\n",
            "/usr/local/lib/python3.10/dist-packages/sklearn/preprocessing/_encoders.py:868: FutureWarning: `sparse` was renamed to `sparse_output` in version 1.2 and will be removed in 1.4. `sparse_output` is ignored unless you leave `sparse` to its default value.\n",
            "  warnings.warn(\n",
            "/usr/local/lib/python3.10/dist-packages/sklearn/preprocessing/_encoders.py:868: FutureWarning: `sparse` was renamed to `sparse_output` in version 1.2 and will be removed in 1.4. `sparse_output` is ignored unless you leave `sparse` to its default value.\n",
            "  warnings.warn(\n",
            "/usr/local/lib/python3.10/dist-packages/sklearn/preprocessing/_encoders.py:868: FutureWarning: `sparse` was renamed to `sparse_output` in version 1.2 and will be removed in 1.4. `sparse_output` is ignored unless you leave `sparse` to its default value.\n",
            "  warnings.warn(\n"
          ]
        },
        {
          "output_type": "stream",
          "name": "stdout",
          "text": [
            "\n",
            "Mean Squared Error of the model: 159550331760.13\n"
          ]
        }
      ],
      "source": [
        "import pandas as pd\n",
        "from sklearn.model_selection import train_test_split\n",
        "from sklearn.tree import DecisionTreeRegressor\n",
        "from sklearn.metrics import mean_squared_error\n",
        "from sklearn.preprocessing import OneHotEncoder\n",
        "\n",
        "url = \"/content/drive/MyDrive/Machine Learning/melb_data.csv\"\n",
        "data = pd.read_csv(url)\n",
        "\n",
        "print(data.head())\n",
        "\n",
        "# Encode untuk kolom \"Address\"\n",
        "encoder = OneHotEncoder(sparse=False)\n",
        "encoded_data = encoder.fit_transform(data[['Address']])\n",
        "encoded_df = pd.DataFrame(encoded_data, columns=encoder.get_feature_names_out(['Address']))\n",
        "\n",
        "data = data.join(encoded_df)\n",
        "data.drop('Address', axis=1, inplace=True)\n",
        "\n",
        "# Encode untuk kolom \"Type\" dan \"Method\"\n",
        "encoder_type_method = OneHotEncoder(sparse=False, handle_unknown='ignore')\n",
        "encoded_type_method = encoder_type_method.fit_transform(data[['Type', 'Method']])\n",
        "encoded_type_method_df = pd.DataFrame(encoded_type_method, columns=encoder_type_method.get_feature_names_out(['Type', 'Method']))\n",
        "\n",
        "data = data.join(encoded_type_method_df)\n",
        "data.drop(['Type', 'Method'], axis=1, inplace=True)\n",
        "\n",
        "# Encode untuk kolom \"Regionname\" dan \"CouncilArea\"\n",
        "encoder_region_council = OneHotEncoder(sparse=False, handle_unknown='ignore')\n",
        "encoded_region_council = encoder_region_council.fit_transform(data[['Regionname', 'CouncilArea']])\n",
        "encoded_region_council_df = pd.DataFrame(encoded_region_council, columns=encoder_region_council.get_feature_names_out(['Regionname', 'CouncilArea']))\n",
        "\n",
        "data = data.join(encoded_region_council_df)\n",
        "data.drop(['Regionname', 'CouncilArea'], axis=1, inplace=True)\n",
        "\n",
        "# Encode untuk kolom \"SellerG\"\n",
        "encoder_SellerG = OneHotEncoder(sparse=False, handle_unknown='ignore')\n",
        "encoded_SellerG = encoder_SellerG.fit_transform(data[['SellerG']])\n",
        "encoded_SellerG_df = pd.DataFrame(encoded_SellerG, columns=encoder_SellerG.get_feature_names_out(['SellerG']))\n",
        "\n",
        "data = pd.concat([data, encoded_SellerG_df], axis=1)\n",
        "data.drop(['SellerG'], axis=1, inplace=True)\n",
        "\n",
        "# Encoding untuk kolom \"Date\"\n",
        "encoder_Date = OneHotEncoder(sparse=False, handle_unknown='ignore')\n",
        "encoded_Date = encoder_Date.fit_transform(data[['Date']])\n",
        "encoded_Date_df = pd.DataFrame(encoded_Date, columns=encoder_Date.get_feature_names_out(['Date']))\n",
        "\n",
        "data = pd.concat([data, encoded_Date_df], axis=1)\n",
        "data.drop(['Date'], axis=1, inplace=True)\n",
        "\n",
        "# Encode untuk kolom \"Suburb\"\n",
        "encoder = OneHotEncoder(sparse=False, handle_unknown='ignore')\n",
        "suburb_encoded = encoder.fit_transform(data[['Suburb']])\n",
        "suburb_encoded_df = pd.DataFrame(suburb_encoded, columns=encoder.get_feature_names_out(['Suburb']))\n",
        "\n",
        "data.reset_index(drop=True, inplace=True)\n",
        "\n",
        "data_encoded = pd.concat([data, suburb_encoded_df], axis=1)\n",
        "data_encoded.drop('Suburb', axis=1, inplace=True)\n",
        "\n",
        "# Bersihkan NaN pada data\n",
        "clean = data_encoded.dropna()\n",
        "\n",
        "# Pisahkan fitur dan target\n",
        "X = clean.drop('Price', axis=1)  # Fitur\n",
        "y = clean['Price']  # Target\n",
        "\n",
        "# Memisahkan dataset menjadi training set dan testing set\n",
        "X_train, X_test, y_train, y_test = train_test_split(X, y, test_size=0.2, random_state=42)\n",
        "\n",
        "# Membuat objek model Decision Tree\n",
        "model = DecisionTreeRegressor(random_state=42)\n",
        "\n",
        "# Melatih model dengan training set\n",
        "model.fit(X_train, y_train)\n",
        "\n",
        "# Memprediksi target untuk data testing\n",
        "predictions = model.predict(X_test)\n",
        "\n",
        "# Menghitung dan menampilkan Mean Squared Error (MSE)\n",
        "mse = mean_squared_error(y_test, predictions)\n",
        "print(f'\\nMean Squared Error of the model: {mse:.2f}')"
      ]
    }
  ]
}